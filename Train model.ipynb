{
  "cells": [
    {
      "cell_type": "code",
      "execution_count": 1,
      "metadata": {
        "execution": {
          "iopub.execute_input": "2023-05-14T14:47:23.558280Z",
          "iopub.status.busy": "2023-05-14T14:47:23.557690Z",
          "iopub.status.idle": "2023-05-14T14:47:23.569642Z",
          "shell.execute_reply": "2023-05-14T14:47:23.567954Z",
          "shell.execute_reply.started": "2023-05-14T14:47:23.558226Z"
        },
        "id": "0D_Csp7tkS1u",
        "trusted": true
      },
      "outputs": [],
      "source": [
        "import matplotlib.pyplot as plt\n",
        "import numpy as np\n",
        "import pandas as pd\n",
        "import os\n",
        "import cv2\n",
        "import shutil\n",
        "import seaborn as sns\n",
        "from glob import glob\n",
        "import PIL\n",
        "from PIL import Image\n",
        "from statistics import mode\n",
        "from sklearn.metrics import confusion_matrix, classification_report, accuracy_score\n",
        "import keras\n",
        "from keras.utils.np_utils import to_categorical\n",
        "from keras.models import Sequential\n",
        "from keras.layers import Dense, Dropout, Flatten, Conv2D, MaxPool2D, BatchNormalization, GlobalAveragePooling2D, MaxPooling2D\n",
        "from sklearn.model_selection import train_test_split\n",
        "from scipy import stats\n",
        "from sklearn.preprocessing import LabelEncoder\n",
        "from sklearn.utils import resample\n",
        "import tensorflow as tf\n",
        "import warnings\n",
        "warnings.filterwarnings(\"ignore\")"
      ]
    },
    {
      "cell_type": "code",
      "execution_count": 2,
      "metadata": {
        "colab": {
          "base_uri": "https://localhost:8080/"
        },
        "id": "xP8cBMdtUBZa",
        "outputId": "c6803eab-74e8-4caa-d129-e4d2c4c508e0"
      },
      "outputs": [
        {
          "name": "stdout",
          "output_type": "stream",
          "text": [
            "Found GPU at: /device:GPU:0\n"
          ]
        }
      ],
      "source": [
        "device_name = tf.test.gpu_device_name()\n",
        "if \"GPU\" not in device_name:\n",
        "    print(\"GPU device not found\")\n",
        "print('Found GPU at: {}'.format(device_name))"
      ]
    },
    {
      "cell_type": "code",
      "execution_count": 3,
      "metadata": {
        "colab": {
          "base_uri": "https://localhost:8080/"
        },
        "id": "YNaKBIyfs-lH",
        "outputId": "fb093963-676e-4000-db49-a811bf8db224"
      },
      "outputs": [
        {
          "name": "stdout",
          "output_type": "stream",
          "text": [
            "Looking in indexes: https://pypi.org/simple, https://us-python.pkg.dev/colab-wheels/public/simple/\n",
            "Collecting opendatasets\n",
            "  Downloading opendatasets-0.1.22-py3-none-any.whl (15 kB)\n",
            "Requirement already satisfied: tqdm in /usr/local/lib/python3.10/dist-packages (from opendatasets) (4.65.0)\n",
            "Requirement already satisfied: kaggle in /usr/local/lib/python3.10/dist-packages (from opendatasets) (1.5.13)\n",
            "Requirement already satisfied: click in /usr/local/lib/python3.10/dist-packages (from opendatasets) (8.1.3)\n",
            "Requirement already satisfied: six>=1.10 in /usr/local/lib/python3.10/dist-packages (from kaggle->opendatasets) (1.16.0)\n",
            "Requirement already satisfied: certifi in /usr/local/lib/python3.10/dist-packages (from kaggle->opendatasets) (2022.12.7)\n",
            "Requirement already satisfied: python-dateutil in /usr/local/lib/python3.10/dist-packages (from kaggle->opendatasets) (2.8.2)\n",
            "Requirement already satisfied: requests in /usr/local/lib/python3.10/dist-packages (from kaggle->opendatasets) (2.27.1)\n",
            "Requirement already satisfied: python-slugify in /usr/local/lib/python3.10/dist-packages (from kaggle->opendatasets) (8.0.1)\n",
            "Requirement already satisfied: urllib3 in /usr/local/lib/python3.10/dist-packages (from kaggle->opendatasets) (1.26.15)\n",
            "Requirement already satisfied: text-unidecode>=1.3 in /usr/local/lib/python3.10/dist-packages (from python-slugify->kaggle->opendatasets) (1.3)\n",
            "Requirement already satisfied: charset-normalizer~=2.0.0 in /usr/local/lib/python3.10/dist-packages (from requests->kaggle->opendatasets) (2.0.12)\n",
            "Requirement already satisfied: idna<4,>=2.5 in /usr/local/lib/python3.10/dist-packages (from requests->kaggle->opendatasets) (3.4)\n",
            "Installing collected packages: opendatasets\n",
            "Successfully installed opendatasets-0.1.22\n"
          ]
        }
      ],
      "source": [
        "pip install opendatasets"
      ]
    },
    {
      "cell_type": "code",
      "execution_count": 4,
      "metadata": {
        "colab": {
          "base_uri": "https://localhost:8080/"
        },
        "id": "QY171TzXmt9e",
        "outputId": "1df0f088-0955-44e5-ad10-21ac974e4f88"
      },
      "outputs": [
        {
          "name": "stdout",
          "output_type": "stream",
          "text": [
            "Mounted at /content/drive\n"
          ]
        }
      ],
      "source": [
        "from google.colab import drive\n",
        "drive.mount('/content/drive')"
      ]
    },
    {
      "cell_type": "code",
      "execution_count": 5,
      "metadata": {
        "colab": {
          "base_uri": "https://localhost:8080/"
        },
        "id": "D1S58GeDtscW",
        "outputId": "aa715afc-e723-48df-cdfb-a7e3d7f54beb"
      },
      "outputs": [
        {
          "name": "stdout",
          "output_type": "stream",
          "text": [
            "fabff1e48ae65b22e0f662e7a6237e66\n"
          ]
        }
      ],
      "source": [
        "import json\n",
        "\n",
        "with open('kaggle.json') as f:\n",
        "    data = json.load(f)\n",
        "\n",
        "api_key = data['key']\n",
        "print(api_key)\n"
      ]
    },
    {
      "cell_type": "code",
      "execution_count": 6,
      "metadata": {
        "colab": {
          "base_uri": "https://localhost:8080/"
        },
        "execution": {
          "iopub.execute_input": "2023-05-14T14:47:23.596464Z",
          "iopub.status.busy": "2023-05-14T14:47:23.596085Z",
          "iopub.status.idle": "2023-05-14T14:47:23.780417Z",
          "shell.execute_reply": "2023-05-14T14:47:23.778999Z",
          "shell.execute_reply.started": "2023-05-14T14:47:23.596430Z"
        },
        "id": "IjfWNs-qkS14",
        "outputId": "d231e445-d22c-46c2-848e-8e74635d14b2",
        "trusted": true
      },
      "outputs": [
        {
          "name": "stdout",
          "output_type": "stream",
          "text": [
            "Downloading skin-cancer-dataset.zip to ./skin-cancer-dataset\n"
          ]
        },
        {
          "name": "stderr",
          "output_type": "stream",
          "text": [
            "100%|██████████| 2.58G/2.58G [00:33<00:00, 82.8MB/s]\n"
          ]
        },
        {
          "name": "stdout",
          "output_type": "stream",
          "text": [
            "\n"
          ]
        }
      ],
      "source": [
        "import opendatasets as od\n",
        "import pandas as pd\n",
        "\n",
        "# Download the dataset\n",
        "dataset_url = \"https://www.kaggle.com/datasets/farjanakabirsamanta/skin-cancer-dataset?resource=download\"\n",
        "od.download(dataset_url)\n"
      ]
    },
    {
      "cell_type": "code",
      "execution_count": 7,
      "metadata": {
        "colab": {
          "base_uri": "https://localhost:8080/"
        },
        "id": "0Z7wyD9CE4lJ",
        "outputId": "6c459203-e289-40f5-c5f7-deb66edb33cd"
      },
      "outputs": [
        {
          "name": "stdout",
          "output_type": "stream",
          "text": [
            "       image_id   dx\n",
            "0  ISIC_0027419  bkl\n",
            "1  ISIC_0025030  bkl\n",
            "2  ISIC_0026769  bkl\n",
            "3  ISIC_0025661  bkl\n",
            "4  ISIC_0031633  bkl\n"
          ]
        }
      ],
      "source": [
        "# Specify the correct file path\n",
        "csv_file = '/content/skin-cancer-dataset/HAM10000_metadata.csv'\n",
        "\n",
        "# Load the metadata CSV file into a DataFrame\n",
        "metadata = pd.read_csv(csv_file)\n",
        "\n",
        "# Drop the specified columns\n",
        "metadata.drop(['lesion_id', 'dx_type', 'age', 'sex', 'localization'], axis=1, inplace=True)\n",
        "\n",
        "# Display the first 5 rows of the modified DataFrame\n",
        "print(metadata.head(5))"
      ]
    },
    {
      "cell_type": "code",
      "execution_count": 8,
      "metadata": {
        "colab": {
          "base_uri": "https://localhost:8080/"
        },
        "execution": {
          "iopub.execute_input": "2023-05-14T14:47:23.802239Z",
          "iopub.status.busy": "2023-05-14T14:47:23.801731Z",
          "iopub.status.idle": "2023-05-14T14:47:23.818342Z",
          "shell.execute_reply": "2023-05-14T14:47:23.816855Z",
          "shell.execute_reply.started": "2023-05-14T14:47:23.802192Z"
        },
        "id": "Ez-S7MvSkS16",
        "outputId": "0380865a-32e2-4217-f4be-0007d38520bd",
        "trusted": true
      },
      "outputs": [
        {
          "data": {
            "text/plain": [
              "nv       6705\n",
              "mel      1113\n",
              "bkl      1099\n",
              "bcc       514\n",
              "akiec     327\n",
              "vasc      142\n",
              "df        115\n",
              "Name: dx, dtype: int64"
            ]
          },
          "execution_count": 8,
          "metadata": {},
          "output_type": "execute_result"
        }
      ],
      "source": [
        "metadata.dx.value_counts()"
      ]
    },
    {
      "cell_type": "code",
      "execution_count": 9,
      "metadata": {
        "execution": {
          "iopub.execute_input": "2023-05-14T14:47:23.820010Z",
          "iopub.status.busy": "2023-05-14T14:47:23.819642Z",
          "iopub.status.idle": "2023-05-14T14:47:23.830583Z",
          "shell.execute_reply": "2023-05-14T14:47:23.829543Z",
          "shell.execute_reply.started": "2023-05-14T14:47:23.819978Z"
        },
        "id": "Ke7D1eynkS17",
        "trusted": true
      },
      "outputs": [],
      "source": [
        "le = LabelEncoder()\n",
        "metadata['dx'] = le.fit_transform(metadata.dx)"
      ]
    },
    {
      "cell_type": "code",
      "execution_count": 10,
      "metadata": {
        "colab": {
          "base_uri": "https://localhost:8080/"
        },
        "id": "aQ9vhK9y9OUE",
        "outputId": "e25792e3-94f7-4528-8c58-7ae3bfeb9e6c"
      },
      "outputs": [
        {
          "data": {
            "text/plain": [
              "5    6705\n",
              "4    1113\n",
              "2    1099\n",
              "1     514\n",
              "0     327\n",
              "6     142\n",
              "3     115\n",
              "Name: dx, dtype: int64"
            ]
          },
          "execution_count": 10,
          "metadata": {},
          "output_type": "execute_result"
        }
      ],
      "source": [
        "metadata.dx.value_counts()"
      ]
    },
    {
      "cell_type": "code",
      "execution_count": null,
      "metadata": {
        "id": "rR_yBn3Vptb-"
      },
      "outputs": [],
      "source": [
        "# Membagi dataset menjadi dua bagian (80% dan 20%) train_val dan test\n",
        "train_data, test_data = train_test_split(metadata, test_size=0.2, random_state=42)"
      ]
    },
    {
      "cell_type": "code",
      "execution_count": null,
      "metadata": {
        "colab": {
          "base_uri": "https://localhost:8080/"
        },
        "id": "aL9oMttNq8bH",
        "outputId": "52afa333-9c71-4044-fe92-8c3bc77dc2a4"
      },
      "outputs": [
        {
          "name": "stdout",
          "output_type": "stream",
          "text": [
            "Length of training data 8012\n",
            "Length of testing data 2003\n",
            "Length of meta data 10015\n",
            "Total Images = 8012 + 2003 = 10015\n"
          ]
        }
      ],
      "source": [
        "print('Length of training data', len(train_data))\n",
        "print('Length of testing data',len(test_data))\n",
        "print('Length of meta data',len(metadata))\n",
        "print(f'Total Images = {len(train_data)} + {len(test_data)} = {len(train_data) + len(test_data)}')"
      ]
    },
    {
      "cell_type": "code",
      "execution_count": null,
      "metadata": {
        "id": "O3LFsBpBnivG"
      },
      "outputs": [],
      "source": [
        "path = \"/content/drive/MyDrive/Skin Cancer/\""
      ]
    },
    {
      "cell_type": "code",
      "execution_count": null,
      "metadata": {
        "id": "E--1tyKcHnoe"
      },
      "outputs": [],
      "source": [
        "# Dapatkan daftar kategori unik\n",
        "categories = train_data['dx'].unique()\n",
        "\n",
        "# Buat folder untuk setiap kategori\n",
        "for category in categories:\n",
        "    os.makedirs(path + 'train/' + str(category), exist_ok=True)\n",
        "\n",
        "# Loop melalui setiap baris dalam file CSV\n",
        "for index, row in train_data.iterrows():\n",
        "    filename = row['image_id']  # Ubah 'filename' dengan nama kolom yang berisi nama file gambar\n",
        "    category = row['dx']  # Ubah 'label' dengan nama kolom yang berisi kategori\n",
        "    source_path = '/content/skin-cancer-dataset/Skin Cancer/Skin Cancer/' + filename + '.jpg' # Ubah 'path/to/images/' dengan direktori tempat gambar-gambar Anda disimpan\n",
        "    \n",
        "    # Salin gambar ke folder yang sesuai\n",
        "    destination_path = os.path.join(path + 'train/' + str(category), filename + '.jpg')\n",
        "    shutil.copy(source_path, destination_path)"
      ]
    },
    {
      "cell_type": "code",
      "execution_count": null,
      "metadata": {
        "id": "lz7Ty04grjGM"
      },
      "outputs": [],
      "source": [
        "# Dapatkan daftar kategori unik\n",
        "categories = test_data['dx'].unique()\n",
        "\n",
        "# Buat folder untuk setiap kategori\n",
        "for category in categories:\n",
        "    os.makedirs(path + 'test/' + str(category), exist_ok=True)\n",
        "\n",
        "# Loop melalui setiap baris dalam file CSV\n",
        "for index, row in test_data.iterrows():\n",
        "    filename = row['image_id']  # Ubah 'filename' dengan nama kolom yang berisi nama file gambar\n",
        "    category = row['dx']  # Ubah 'label' dengan nama kolom yang berisi kategori\n",
        "    source_path = '/content/skin-cancer-dataset/Skin Cancer/Skin Cancer/' + filename + '.jpg' # Ubah 'path/to/images/' dengan direktori tempat gambar-gambar Anda disimpan\n",
        "    \n",
        "    # Salin gambar ke folder yang sesuai\n",
        "    destination_path = os.path.join(path + 'test/' + str(category), filename + '.jpg')\n",
        "    shutil.copy(source_path, destination_path)"
      ]
    },
    {
      "cell_type": "code",
      "execution_count": 11,
      "metadata": {
        "colab": {
          "base_uri": "https://localhost:8080/"
        },
        "id": "S5yt8hhdzp-x",
        "outputId": "142f7b62-d374-418e-9455-28cc4ac5308f"
      },
      "outputs": [
        {
          "data": {
            "text/plain": [
              "7"
            ]
          },
          "execution_count": 11,
          "metadata": {},
          "output_type": "execute_result"
        }
      ],
      "source": [
        "train_path = \"/content/drive/MyDrive/Skin Cancer/train/\"\n",
        "test_path = \"/content/drive/MyDrive/Skin Cancer/test/\"\n",
        "\n",
        "\n",
        "IMG_HEIGHT = 100\n",
        "IMG_WIDTH = 100\n",
        "channels = 3\n",
        "\n",
        "NUM_CATEGORIES = len(os.listdir(train_path))\n",
        "NUM_CATEGORIES"
      ]
    },
    {
      "cell_type": "code",
      "execution_count": 12,
      "metadata": {
        "id": "DZEW3UtVzW5l"
      },
      "outputs": [],
      "source": [
        "image_data = []\n",
        "image_labels = []\n",
        "\n",
        "for i in range(NUM_CATEGORIES):\n",
        "    path = train_path + str(i)\n",
        "    images = os.listdir(path)\n",
        "\n",
        "    for img in images:\n",
        "        try:\n",
        "            image = cv2.imread(path + '/' + img)\n",
        "            image_fromarray = Image.fromarray(image, 'RGB')\n",
        "            resize_image = image_fromarray.resize((IMG_HEIGHT, IMG_WIDTH))\n",
        "            image_data.append(np.array(resize_image))\n",
        "            image_labels.append(i)\n",
        "        except:\n",
        "            print(\"Error in \" + img)\n",
        "\n",
        "# Changing the list to numpy array\n",
        "image_data = np.array(image_data)\n",
        "image_labels = np.array(image_labels)"
      ]
    },
    {
      "cell_type": "code",
      "execution_count": 13,
      "metadata": {
        "colab": {
          "base_uri": "https://localhost:8080/"
        },
        "id": "ilEZTDl6-NmJ",
        "outputId": "057796c7-79fb-4918-cffd-fac35f7aa727"
      },
      "outputs": [
        {
          "data": {
            "text/plain": [
              "8012"
            ]
          },
          "execution_count": 13,
          "metadata": {},
          "output_type": "execute_result"
        }
      ],
      "source": [
        "len(image_data)"
      ]
    },
    {
      "cell_type": "code",
      "execution_count": 14,
      "metadata": {
        "id": "wKjwhs4V2YPZ"
      },
      "outputs": [],
      "source": [
        "# shuffle_indexes = np.arange(image_data.shape[0])\n",
        "# np.random.shuffle(shuffle_indexes)\n",
        "# image_data = image_data[shuffle_indexes]\n",
        "# image_labels = image_labels[shuffle_indexes]"
      ]
    },
    {
      "cell_type": "code",
      "execution_count": 15,
      "metadata": {
        "colab": {
          "base_uri": "https://localhost:8080/"
        },
        "id": "067yTSYj2bmg",
        "outputId": "c412b8a0-476f-4c5d-abbb-ae337fb48feb"
      },
      "outputs": [
        {
          "name": "stdout",
          "output_type": "stream",
          "text": [
            "X_train.shape (5608, 100, 100, 3)\n",
            "X_valid.shape (2404, 100, 100, 3)\n",
            "y_train.shape (5608,)\n",
            "y_valid.shape (2404,)\n"
          ]
        }
      ],
      "source": [
        "X_train, X_val, y_train, y_val = train_test_split(image_data, image_labels, test_size=0.3, random_state=42, shuffle=True)\n",
        "\n",
        "X_train = X_train/255 \n",
        "X_val = X_val/255\n",
        "\n",
        "print(\"X_train.shape\", X_train.shape)\n",
        "print(\"X_valid.shape\", X_val.shape)\n",
        "print(\"y_train.shape\", y_train.shape)\n",
        "print(\"y_valid.shape\", y_val.shape)"
      ]
    },
    {
      "cell_type": "code",
      "execution_count": 16,
      "metadata": {
        "colab": {
          "base_uri": "https://localhost:8080/"
        },
        "id": "ab8_p6DY2zGI",
        "outputId": "d208b45c-1af3-498b-c553-f58d638b46a0"
      },
      "outputs": [
        {
          "name": "stdout",
          "output_type": "stream",
          "text": [
            "(5608, 7)\n",
            "(2404, 7)\n"
          ]
        }
      ],
      "source": [
        "y_train = keras.utils.to_categorical(y_train, NUM_CATEGORIES)\n",
        "y_val = keras.utils.to_categorical(y_val, NUM_CATEGORIES)\n",
        "\n",
        "print(y_train.shape)\n",
        "print(y_val.shape)"
      ]
    },
    {
      "cell_type": "code",
      "execution_count": 17,
      "metadata": {
        "execution": {
          "iopub.execute_input": "2023-05-14T15:31:16.133301Z",
          "iopub.status.busy": "2023-05-14T15:31:16.132767Z",
          "iopub.status.idle": "2023-05-14T15:31:18.268734Z",
          "shell.execute_reply": "2023-05-14T15:31:18.267416Z",
          "shell.execute_reply.started": "2023-05-14T15:31:16.133260Z"
        },
        "id": "d0fiXsCHkS2F",
        "trusted": true
      },
      "outputs": [],
      "source": [
        "# base = tf.keras.applications.resnet50.ResNet50(input_shape=(IMG_HEIGHT, IMG_WIDTH, channels),\n",
        "#                                            include_top=False,\n",
        "#                                            weights='imagenet')\n",
        "\n",
        "model = Sequential()\n",
        "model.add(Conv2D(32, (3,3), input_shape = (IMG_HEIGHT, IMG_WIDTH, channels), activation = 'relu'))\n",
        "model.add(MaxPooling2D(2,2))\n",
        "model.add(Conv2D(64, (3,3), activation = 'relu'))\n",
        "model.add(MaxPooling2D(2,2))\n",
        "model.add(Dropout(0.2))\n",
        "model.add(Conv2D(128, (3,3), activation = 'relu'))\n",
        "model.add(MaxPooling2D(2,2))\n",
        "model.add(Dropout(0.2))\n",
        "model.add(Conv2D(256, (3,3), activation = 'relu'))\n",
        "model.add(MaxPooling2D(2,2))\n",
        "model.add(Flatten())\n",
        "model.add(Dropout(0.2))\n",
        "model.add(Dense(7, activation=\"softmax\" , name=\"classification\"))"
      ]
    },
    {
      "cell_type": "code",
      "execution_count": 18,
      "metadata": {
        "id": "o7FjMd9OZvUF"
      },
      "outputs": [],
      "source": [
        "model.compile(loss  = 'categorical_crossentropy', optimizer = 'Adam', metrics = 'acc')"
      ]
    },
    {
      "cell_type": "code",
      "execution_count": 19,
      "metadata": {
        "id": "PxWXPo_EV2eo"
      },
      "outputs": [],
      "source": [
        "from keras.callbacks import ReduceLROnPlateau\n",
        "# Set a learning rate annealer\n",
        "learning_rate_reduction = ReduceLROnPlateau(\n",
        "    monitor='val_acc', patience=3, verbose=1, \n",
        "    factor=0.5, min_lr=0.00001)"
      ]
    },
    {
      "cell_type": "code",
      "execution_count": 20,
      "metadata": {
        "colab": {
          "base_uri": "https://localhost:8080/"
        },
        "execution": {
          "iopub.execute_input": "2023-05-14T15:31:31.355398Z",
          "iopub.status.busy": "2023-05-14T15:31:31.354883Z",
          "iopub.status.idle": "2023-05-14T17:10:10.123238Z",
          "shell.execute_reply": "2023-05-14T17:10:10.120449Z",
          "shell.execute_reply.started": "2023-05-14T15:31:31.355358Z"
        },
        "id": "JMLCUzsJkS2G",
        "outputId": "23aefb50-0ed8-48bc-83c4-6ff5f5bfe30d",
        "trusted": true
      },
      "outputs": [
        {
          "name": "stdout",
          "output_type": "stream",
          "text": [
            "Epoch 1/20\n",
            "176/176 [==============================] - 33s 116ms/step - loss: 1.0329 - acc: 0.6721 - val_loss: 1.0272 - val_acc: 0.6552\n",
            "Epoch 2/20\n",
            "176/176 [==============================] - 25s 142ms/step - loss: 0.9623 - acc: 0.6762 - val_loss: 1.0117 - val_acc: 0.6556\n",
            "Epoch 3/20\n",
            "176/176 [==============================] - 21s 121ms/step - loss: 0.9074 - acc: 0.6760 - val_loss: 0.8851 - val_acc: 0.6639\n",
            "Epoch 4/20\n",
            "176/176 [==============================] - 20s 112ms/step - loss: 0.8423 - acc: 0.6940 - val_loss: 0.8580 - val_acc: 0.6830\n",
            "Epoch 5/20\n",
            "176/176 [==============================] - 21s 119ms/step - loss: 0.8227 - acc: 0.6978 - val_loss: 0.8610 - val_acc: 0.6889\n",
            "Epoch 6/20\n",
            "176/176 [==============================] - 19s 111ms/step - loss: 0.7954 - acc: 0.7051 - val_loss: 0.8418 - val_acc: 0.6631\n",
            "Epoch 7/20\n",
            "176/176 [==============================] - 23s 129ms/step - loss: 0.7787 - acc: 0.7081 - val_loss: 0.8080 - val_acc: 0.6926\n",
            "Epoch 8/20\n",
            "176/176 [==============================] - 21s 122ms/step - loss: 0.7548 - acc: 0.7204 - val_loss: 0.8003 - val_acc: 0.7109\n",
            "Epoch 9/20\n",
            "176/176 [==============================] - 35s 199ms/step - loss: 0.7529 - acc: 0.7204 - val_loss: 0.8120 - val_acc: 0.7134\n",
            "Epoch 10/20\n",
            "176/176 [==============================] - 23s 130ms/step - loss: 0.7395 - acc: 0.7245 - val_loss: 0.7732 - val_acc: 0.7146\n",
            "Epoch 11/20\n",
            "176/176 [==============================] - 20s 113ms/step - loss: 0.7155 - acc: 0.7304 - val_loss: 0.7896 - val_acc: 0.7051\n",
            "Epoch 12/20\n",
            "176/176 [==============================] - 26s 147ms/step - loss: 0.7107 - acc: 0.7320 - val_loss: 0.8060 - val_acc: 0.7005\n",
            "Epoch 13/20\n",
            "176/176 [==============================] - 21s 119ms/step - loss: 0.6930 - acc: 0.7377 - val_loss: 0.7544 - val_acc: 0.7167\n",
            "Epoch 14/20\n",
            "176/176 [==============================] - 26s 149ms/step - loss: 0.6992 - acc: 0.7402 - val_loss: 0.7669 - val_acc: 0.7092\n",
            "Epoch 15/20\n",
            "176/176 [==============================] - 21s 120ms/step - loss: 0.6832 - acc: 0.7423 - val_loss: 0.7390 - val_acc: 0.7159\n",
            "Epoch 16/20\n",
            "176/176 [==============================] - 20s 115ms/step - loss: 0.6706 - acc: 0.7448 - val_loss: 0.7594 - val_acc: 0.7109\n",
            "Epoch 17/20\n",
            "176/176 [==============================] - 23s 128ms/step - loss: 0.6773 - acc: 0.7450 - val_loss: 0.7240 - val_acc: 0.7342\n",
            "Epoch 18/20\n",
            "176/176 [==============================] - 22s 127ms/step - loss: 0.6636 - acc: 0.7507 - val_loss: 0.7294 - val_acc: 0.7238\n",
            "Epoch 19/20\n",
            "176/176 [==============================] - 20s 115ms/step - loss: 0.6600 - acc: 0.7459 - val_loss: 0.7417 - val_acc: 0.7292\n",
            "Epoch 20/20\n",
            "176/176 [==============================] - 22s 128ms/step - loss: 0.6408 - acc: 0.7537 - val_loss: 0.7442 - val_acc: 0.7321\n"
          ]
        }
      ],
      "source": [
        "#Augmenting the data and training the model\n",
        "from tensorflow.keras.preprocessing.image import ImageDataGenerator\n",
        "aug = ImageDataGenerator(\n",
        "    rotation_range=10,\n",
        "    zoom_range=0.15,\n",
        "    width_shift_range=0.1,\n",
        "    height_shift_range=0.1,\n",
        "    shear_range=0.15,\n",
        "    horizontal_flip=False,\n",
        "    vertical_flip=False,\n",
        "    fill_mode=\"nearest\")\n",
        "\n",
        "epochs = 20\n",
        "history = model.fit(aug.flow(X_train, y_train, batch_size=32), epochs=epochs, validation_data=aug.flow(X_val, y_val, batch_size=32))"
      ]
    },
    {
      "cell_type": "code",
      "execution_count": 21,
      "metadata": {
        "colab": {
          "base_uri": "https://localhost:8080/",
          "height": 846
        },
        "id": "tS8gG8BDDeYP",
        "outputId": "736213e8-7ba8-4883-8705-29570d371ba3"
      },
      "outputs": [
        {
          "data": {
            "image/png": "[encoded data removed]",
            "text/plain": [
              "<Figure size 640x480 with 1 Axes>"
            ]
          },
          "metadata": {},
          "output_type": "display_data"
        },
        {
          "data": {
            "image/png": "[encoded data removed]",
            "text/plain": [
              "<Figure size 640x480 with 1 Axes>"
            ]
          },
          "metadata": {},
          "output_type": "display_data"
        }
      ],
      "source": [
        "plt.figure()\n",
        "plt.plot(history.history['loss'])\n",
        "plt.plot(history.history['val_loss'])\n",
        "plt.legend(['loss','val_loss'],loc='upper right')\n",
        "plt.show()\n",
        "plt.figure()\n",
        "plt.plot(history.history['acc'])\n",
        "plt.plot(history.history['val_acc'])\n",
        "plt.legend(['accuracy','val_accuracy'],loc='upper right')\n",
        "plt.show()"
      ]
    },
    {
      "cell_type": "code",
      "execution_count": 22,
      "metadata": {
        "colab": {
          "base_uri": "https://localhost:8080/"
        },
        "id": "vWU2lIF60WLl",
        "outputId": "faacf880-a362-4e39-ead8-0fbfd7b6d932"
      },
      "outputs": [
        {
          "name": "stdout",
          "output_type": "stream",
          "text": [
            "63/63 [==============================] - 1s 9ms/step\n",
            "Test Data accuracy:  74.08886669995007\n"
          ]
        }
      ],
      "source": [
        "labels = []\n",
        "\n",
        "data =[]\n",
        "\n",
        "for i in range(NUM_CATEGORIES):\n",
        "    path = test_path + str(i)\n",
        "    images = os.listdir(path)\n",
        "\n",
        "    for img in images:\n",
        "        try:\n",
        "            image = cv2.imread(path + '/' + img)\n",
        "            image_fromarray = Image.fromarray(image, 'RGB')\n",
        "            resize_image = image_fromarray.resize((IMG_HEIGHT, IMG_WIDTH))\n",
        "            data.append(np.array(resize_image))\n",
        "            labels.append(int(i))\n",
        "        except:\n",
        "            print(\"Error in \" + img)\n",
        "\n",
        "X_test = np.array(data)\n",
        "X_test = X_test/255\n",
        "\n",
        "pred = np.argmax(model.predict(X_test),axis=1)\n",
        "\n",
        "#Accuracy with the test data\n",
        "print('Test Data accuracy: ',accuracy_score(labels, pred)*100)"
      ]
    },
    {
      "cell_type": "code",
      "execution_count": 23,
      "metadata": {
        "id": "p3y218actSfO"
      },
      "outputs": [],
      "source": [
        "# cf = confusion_matrix(labels, pred)\n",
        "# import seaborn as sns\n",
        "# df_cm = pd.DataFrame(cf, index = classes,  columns = classes)\n",
        "# plt.figure(figsize = (20,20))\n",
        "# sns.heatmap(df_cm, annot=True)"
      ]
    },
    {
      "cell_type": "code",
      "execution_count": 24,
      "metadata": {
        "colab": {
          "base_uri": "https://localhost:8080/"
        },
        "id": "AUZUN8_WtrUy",
        "outputId": "78bd9efb-f2c4-4645-a9cb-83a533baa701"
      },
      "outputs": [
        {
          "name": "stdout",
          "output_type": "stream",
          "text": [
            "              precision    recall  f1-score   support\n",
            "\n",
            "           0       0.50      0.04      0.08        69\n",
            "           1       0.46      0.52      0.49        93\n",
            "           2       0.48      0.47      0.47       228\n",
            "           3       0.00      0.00      0.00        28\n",
            "           4       0.60      0.22      0.32       226\n",
            "           5       0.81      0.94      0.87      1338\n",
            "           6       0.43      0.76      0.55        21\n",
            "\n",
            "    accuracy                           0.74      2003\n",
            "   macro avg       0.47      0.42      0.40      2003\n",
            "weighted avg       0.71      0.74      0.71      2003\n",
            "\n"
          ]
        }
      ],
      "source": [
        "print(classification_report(labels, pred))"
      ]
    },
    {
      "cell_type": "code",
      "execution_count": 25,
      "metadata": {
        "id": "bzsiq5STk2QA"
      },
      "outputs": [],
      "source": [
        "model.save_weights(\"model.h5\")"
      ]
    }
  ],
  "metadata": {
    "accelerator": "GPU",
    "colab": {
      "gpuType": "T4",
      "provenance": []
    },
    "kernelspec": {
      "display_name": "Python 3",
      "name": "python3"
    },
    "language_info": {
      "codemirror_mode": {
        "name": "ipython",
        "version": 3
      },
      "file_extension": ".py",
      "mimetype": "text/x-python",
      "name": "python",
      "nbconvert_exporter": "python",
      "pygments_lexer": "ipython3",
      "version": "3.7.12"
    }
  },
  "nbformat": 4,
  "nbformat_minor": 0
}
